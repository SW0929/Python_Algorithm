{
 "cells": [
  {
   "cell_type": "markdown",
   "metadata": {},
   "source": [
    "# 1. 인구 피라미드"
   ]
  },
  {
   "cell_type": "code",
   "execution_count": null,
   "metadata": {},
   "outputs": [
    {
     "name": "stdout",
     "output_type": "stream",
     "text": [
      "Collecting xlrd\n",
      "  Downloading xlrd-2.0.1-py2.py3-none-any.whl.metadata (3.4 kB)\n",
      "Downloading xlrd-2.0.1-py2.py3-none-any.whl (96 kB)\n",
      "   ---------------------------------------- 0.0/96.5 kB ? eta -:--:--\n",
      "   ---------------------------------------- 0.0/96.5 kB ? eta -:--:--\n",
      "   ---- ----------------------------------- 10.2/96.5 kB ? eta -:--:--\n",
      "   ---- ----------------------------------- 10.2/96.5 kB ? eta -:--:--\n",
      "   ------------ --------------------------- 30.7/96.5 kB 217.9 kB/s eta 0:00:01\n",
      "   ---------------- ----------------------- 41.0/96.5 kB 245.8 kB/s eta 0:00:01\n",
      "   ---------------------------------------- 96.5/96.5 kB 459.0 kB/s eta 0:00:00\n",
      "Installing collected packages: xlrd\n",
      "Successfully installed xlrd-2.0.1\n",
      "Note: you may need to restart the kernel to use updated packages.\n"
     ]
    }
   ],
   "source": [
    "pip install xlrd"
   ]
  },
  {
   "cell_type": "code",
   "execution_count": 25,
   "metadata": {},
   "outputs": [
    {
     "data": {
      "text/html": [
       "<div>\n",
       "<style scoped>\n",
       "    .dataframe tbody tr th:only-of-type {\n",
       "        vertical-align: middle;\n",
       "    }\n",
       "\n",
       "    .dataframe tbody tr th {\n",
       "        vertical-align: top;\n",
       "    }\n",
       "\n",
       "    .dataframe thead th {\n",
       "        text-align: right;\n",
       "    }\n",
       "</style>\n",
       "<table border=\"1\" class=\"dataframe\">\n",
       "  <thead>\n",
       "    <tr style=\"text-align: right;\">\n",
       "      <th></th>\n",
       "      <th>총인구수</th>\n",
       "      <th>세대수</th>\n",
       "      <th>세대당 인구</th>\n",
       "      <th>남자 인구수</th>\n",
       "    </tr>\n",
       "    <tr>\n",
       "      <th>행정구역</th>\n",
       "      <th></th>\n",
       "      <th></th>\n",
       "      <th></th>\n",
       "      <th></th>\n",
       "    </tr>\n",
       "  </thead>\n",
       "  <tbody>\n",
       "    <tr>\n",
       "      <th>전국</th>\n",
       "      <td>51202130</td>\n",
       "      <td>20549492</td>\n",
       "      <td>2.49</td>\n",
       "      <td>25614648</td>\n",
       "    </tr>\n",
       "    <tr>\n",
       "      <th>서울특별시</th>\n",
       "      <td>10137313</td>\n",
       "      <td>4189778</td>\n",
       "      <td>2.42</td>\n",
       "      <td>5002036</td>\n",
       "    </tr>\n",
       "    <tr>\n",
       "      <th>부산광역시</th>\n",
       "      <td>3523386</td>\n",
       "      <td>1409861</td>\n",
       "      <td>2.50</td>\n",
       "      <td>1743807</td>\n",
       "    </tr>\n",
       "    <tr>\n",
       "      <th>대구광역시</th>\n",
       "      <td>2499880</td>\n",
       "      <td>964238</td>\n",
       "      <td>2.59</td>\n",
       "      <td>1244520</td>\n",
       "    </tr>\n",
       "    <tr>\n",
       "      <th>인천광역시</th>\n",
       "      <td>2889258</td>\n",
       "      <td>1125002</td>\n",
       "      <td>2.57</td>\n",
       "      <td>1453139</td>\n",
       "    </tr>\n",
       "    <tr>\n",
       "      <th>광주광역시</th>\n",
       "      <td>1471850</td>\n",
       "      <td>566030</td>\n",
       "      <td>2.60</td>\n",
       "      <td>729480</td>\n",
       "    </tr>\n",
       "    <tr>\n",
       "      <th>대전광역시</th>\n",
       "      <td>1535367</td>\n",
       "      <td>588803</td>\n",
       "      <td>2.61</td>\n",
       "      <td>768425</td>\n",
       "    </tr>\n",
       "    <tr>\n",
       "      <th>울산광역시</th>\n",
       "      <td>1159234</td>\n",
       "      <td>434999</td>\n",
       "      <td>2.66</td>\n",
       "      <td>596923</td>\n",
       "    </tr>\n",
       "    <tr>\n",
       "      <th>세종특별자치시</th>\n",
       "      <td>128200</td>\n",
       "      <td>52484</td>\n",
       "      <td>2.44</td>\n",
       "      <td>65181</td>\n",
       "    </tr>\n",
       "    <tr>\n",
       "      <th>경기도</th>\n",
       "      <td>12276751</td>\n",
       "      <td>4737047</td>\n",
       "      <td>2.59</td>\n",
       "      <td>6180303</td>\n",
       "    </tr>\n",
       "    <tr>\n",
       "      <th>강원도</th>\n",
       "      <td>1541556</td>\n",
       "      <td>668131</td>\n",
       "      <td>2.31</td>\n",
       "      <td>776338</td>\n",
       "    </tr>\n",
       "    <tr>\n",
       "      <th>충청북도</th>\n",
       "      <td>1574548</td>\n",
       "      <td>648047</td>\n",
       "      <td>2.43</td>\n",
       "      <td>793961</td>\n",
       "    </tr>\n",
       "    <tr>\n",
       "      <th>충청남도</th>\n",
       "      <td>2053837</td>\n",
       "      <td>863877</td>\n",
       "      <td>2.38</td>\n",
       "      <td>1041279</td>\n",
       "    </tr>\n",
       "    <tr>\n",
       "      <th>전라북도</th>\n",
       "      <td>1871174</td>\n",
       "      <td>769136</td>\n",
       "      <td>2.43</td>\n",
       "      <td>931638</td>\n",
       "    </tr>\n",
       "    <tr>\n",
       "      <th>전라남도</th>\n",
       "      <td>1907343</td>\n",
       "      <td>819764</td>\n",
       "      <td>2.33</td>\n",
       "      <td>952724</td>\n",
       "    </tr>\n",
       "    <tr>\n",
       "      <th>경상북도</th>\n",
       "      <td>2697438</td>\n",
       "      <td>1143377</td>\n",
       "      <td>2.36</td>\n",
       "      <td>1355071</td>\n",
       "    </tr>\n",
       "    <tr>\n",
       "      <th>경상남도</th>\n",
       "      <td>3336980</td>\n",
       "      <td>1327985</td>\n",
       "      <td>2.51</td>\n",
       "      <td>1680180</td>\n",
       "    </tr>\n",
       "    <tr>\n",
       "      <th>제주특별자치도</th>\n",
       "      <td>598015</td>\n",
       "      <td>240933</td>\n",
       "      <td>2.48</td>\n",
       "      <td>299643</td>\n",
       "    </tr>\n",
       "  </tbody>\n",
       "</table>\n",
       "</div>"
      ],
      "text/plain": [
       "             총인구수       세대수  세대당 인구    남자 인구수\n",
       "행정구역                                         \n",
       "전국       51202130  20549492    2.49  25614648\n",
       "서울특별시    10137313   4189778    2.42   5002036\n",
       "부산광역시     3523386   1409861    2.50   1743807\n",
       "대구광역시     2499880    964238    2.59   1244520\n",
       "인천광역시     2889258   1125002    2.57   1453139\n",
       "광주광역시     1471850    566030    2.60    729480\n",
       "대전광역시     1535367    588803    2.61    768425\n",
       "울산광역시     1159234    434999    2.66    596923\n",
       "세종특별자치시    128200     52484    2.44     65181\n",
       "경기도      12276751   4737047    2.59   6180303\n",
       "강원도       1541556    668131    2.31    776338\n",
       "충청북도      1574548    648047    2.43    793961\n",
       "충청남도      2053837    863877    2.38   1041279\n",
       "전라북도      1871174    769136    2.43    931638\n",
       "전라남도      1907343    819764    2.33    952724\n",
       "경상북도      2697438   1143377    2.36   1355071\n",
       "경상남도      3336980   1327985    2.51   1680180\n",
       "제주특별자치도    598015    240933    2.48    299643"
      ]
     },
     "execution_count": 25,
     "metadata": {},
     "output_type": "execute_result"
    }
   ],
   "source": [
    "import pandas as pd\n",
    "df = pd.read_excel('201404_201404_주민등록인구및세대현황_월간.xls', skiprows=2, index_col='행정구역', usecols='A:E')\n",
    "df"
   ]
  },
  {
   "cell_type": "code",
   "execution_count": 26,
   "metadata": {},
   "outputs": [
    {
     "data": {
      "text/plain": [
       "총인구수      51202130.00\n",
       "세대수       20549492.00\n",
       "세대당 인구           2.49\n",
       "남자 인구수    25614648.00\n",
       "Name: 전국, dtype: float64"
      ]
     },
     "execution_count": 26,
     "metadata": {},
     "output_type": "execute_result"
    }
   ],
   "source": [
    "df.iloc[0]"
   ]
  },
  {
   "cell_type": "markdown",
   "metadata": {},
   "source": [
    "## 데이터 시각화"
   ]
  },
  {
   "cell_type": "code",
   "execution_count": 27,
   "metadata": {},
   "outputs": [],
   "source": [
    "import matplotlib.pyplot as plt\n",
    "import matplotlib\n",
    "matplotlib.rcParams['font.family'] = \"Malgun Gothic\" # Windows\n",
    "# matplotlib.rcParams['font.family'] = \"AppleGothic\" # Mac\n",
    "matplotlib.rcParams['font.size'] = 15 # 글자 크기\n",
    "matplotlib.rcParams['axes.unicode_minus'] = False # 한글 폰트 사용시, 마이너스 글자가 깨지는 현상을 해결"
   ]
  },
  {
   "cell_type": "code",
   "execution_count": 48,
   "metadata": {},
   "outputs": [
    {
     "data": {
      "text/plain": [
       "<BarContainer object of 4 artists>"
      ]
     },
     "execution_count": 48,
     "metadata": {},
     "output_type": "execute_result"
    },
    {
     "data": {
      "image/png": "[encoded data removed]",
      "text/plain": [
       "<Figure size 1000x700 with 1 Axes>"
      ]
     },
     "metadata": {},
     "output_type": "display_data"
    }
   ],
   "source": [
    "plt.figure(figsize=(10, 7))\n",
    "plt.barh(df.columns, -df.iloc[2] // 1000) # 단위 : 천 명\n",
    "plt.barh(df.columns, df.iloc[7] // 1000)"
   ]
  }
 ],
 "metadata": {
  "kernelspec": {
   "display_name": "base",
   "language": "python",
   "name": "python3"
  },
  "language_info": {
   "codemirror_mode": {
    "name": "ipython",
    "version": 3
   },
   "file_extension": ".py",
   "mimetype": "text/x-python",
   "name": "python",
   "nbconvert_exporter": "python",
   "pygments_lexer": "ipython3",
   "version": "3.11.7"
  }
 },
 "nbformat": 4,
 "nbformat_minor": 2
}
